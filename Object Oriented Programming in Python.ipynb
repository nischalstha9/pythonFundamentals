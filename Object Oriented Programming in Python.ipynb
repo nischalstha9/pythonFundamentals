{
 "cells": [
  {
   "cell_type": "markdown",
   "metadata": {},
   "source": [
    "## Class and Instance and Class method and varibles"
   ]
  },
  {
   "cell_type": "code",
   "execution_count": 1,
   "metadata": {},
   "outputs": [
    {
     "name": "stdout",
     "output_type": "stream",
     "text": [
      "Manish Nepal\n",
      "Manish.Nepal@company.com\n",
      "Sanish Himal\n",
      "Sanish.Himal@company.com\n",
      "CALLED FROM CLASS: Manish Nepal\n",
      "No: 2\n",
      "Raise_amount: 1.04\n",
      "Raise_amount: 1.04\n"
     ]
    }
   ],
   "source": [
    "class Employee():\n",
    "    #Here we are creating a class variable\n",
    "    raise_amt=1.04\n",
    "    no_of_emp = 0\n",
    "    #everytime we access Employee object __init__ method is called.\n",
    "    def __init__(self,fname,lname,pay):\n",
    "        self.fname= fname\n",
    "        self.lname= lname\n",
    "        self.pay= pay\n",
    "        self.email= f\"{fname}.{lname}@company.com\"\n",
    "\n",
    "        Employee.no_of_emp += 1 # here we didnt did self because no_of_employee would be same for everyone\n",
    "\n",
    "    def full_name(self):\n",
    "        return f\"{self.fname} {self.lname}\"\n",
    "    def apply_raise(self):\n",
    "        self.pay *= self.raise_amt #class instance should be called with self\n",
    "\n",
    "emp_1 = Employee(\"Manish\",\"Nepal\",20000)\n",
    "emp_2 = Employee(\"Sanish\",\"Himal\",30000)\n",
    "\n",
    "print(emp_1.full_name())# we need to call it as full_nameis method but not attribute\n",
    "print(emp_1.email)\n",
    "\n",
    "print(emp_2.full_name())\n",
    "print(emp_2.email)\n",
    "\n",
    "#when we manually run from class we need to pass instance Ex:\n",
    "print(\"CALLED FROM CLASS:\", Employee.full_name(emp_1))\n",
    "print(\"No:\", Employee.no_of_emp)\n",
    "\n",
    "#\n",
    "print(\"Raise_amount:\",Employee.raise_amt)\n",
    "print(\"Raise_amount:\",emp_1.raise_amt)"
   ]
  },
  {
   "cell_type": "markdown",
   "metadata": {},
   "source": [
    "#### Class Methods and Static methods"
   ]
  },
  {
   "cell_type": "code",
   "execution_count": 18,
   "metadata": {},
   "outputs": [
    {
     "name": "stdout",
     "output_type": "stream",
     "text": [
      "John Doe\n",
      "Appy Black\n",
      "Fizzy White\n",
      "True\n"
     ]
    }
   ],
   "source": [
    "class Employee():\n",
    "    #Here we are creating a class variable\n",
    "    raise_amt=1.04\n",
    "    no_of_emp = 0\n",
    "    #everytime we access Employee object __init__ method is called.\n",
    "    def __init__(self,fname,lname,pay):\n",
    "        self.fname= fname\n",
    "        self.lname= lname\n",
    "        self.pay= pay\n",
    "        self.email= f\"{fname}.{lname}@company.com\"\n",
    "\n",
    "        Employee.no_of_emp += 1 # here we didnt did self because no_of_employee would be same for everyone\n",
    "\n",
    "    def full_name(self):\n",
    "        return f\"{self.fname} {self.lname}\"\n",
    "    def apply_raise(self):\n",
    "        self.pay *= self.raise_amt #class instance should be called with self\n",
    "    #creating class_method using @classmethod decorator\n",
    "    @classmethod\n",
    "    def set_raise_amt(cls, amount):\n",
    "        cls.raise_amt = amount\n",
    "        \n",
    "    @classmethod\n",
    "    def from_string(cls, emp_str):\n",
    "        first, last, pay = emp_str.split('-')\n",
    "        return cls(first, last, pay) #it should be returnded to assign to new variable when called\n",
    "    def __str__(self):\n",
    "        return f\"{self.fname} {self.lname}\"\n",
    "    @staticmethod\n",
    "    def is_workday(day):\n",
    "        if day.weekday() == 5 or day.weekday() == 6:\n",
    "            return False\n",
    "        return True        \n",
    "\n",
    "emp_1 = Employee(\"Manish\",\"Nepal\",20000)\n",
    "emp_2 = Employee(\"Sanish\",\"Himal\",30000)\n",
    "\n",
    "# print(Employee.raise_amt)\n",
    "# print(emp_1.raise_amt)\n",
    "# Employee.set_raise_amt(2)\n",
    "# print(Employee.raise_amt)\n",
    "# print(emp_1.raise_amt)\n",
    "\n",
    "emp_str_1 = Employee.from_string(\"John-Doe-70000\")\n",
    "emp_str_2 = Employee.from_string(\"Appy-Black-50000\")\n",
    "emp_str_3 = Employee.from_string(\"Fizzy-White-60000\")\n",
    "print(emp_str_1)\n",
    "print(emp_str_2)\n",
    "print(emp_str_3)\n",
    "import datetime\n",
    "my_date = datetime.date(2016,7,11)\n",
    "print(Employee.is_workday(my_date))\n",
    "\n"
   ]
  },
  {
   "cell_type": "markdown",
   "metadata": {},
   "source": [
    "### Inheritance-Creating Subclasses"
   ]
  },
  {
   "cell_type": "code",
   "execution_count": 55,
   "metadata": {},
   "outputs": [
    {
     "name": "stdout",
     "output_type": "stream",
     "text": [
      "DEv ed\n",
      "['DEV ED', 'DEv OPS']\n",
      "Manager Raj\n",
      "['DEV ED', 'DEv OPS', 'Hari om']\n",
      "--> DEv OPS\n",
      "--> Hari om\n",
      "True\n",
      "1.1\n",
      "1.04\n",
      "1.04\n",
      "2\n",
      "1.04\n",
      "Manager 3\n",
      "Employee 1.04\n",
      "DEVELOPER 2\n",
      "True\n",
      "True\n",
      "False\n",
      "Manager is sub of Employee: True\n",
      "Employee is sub of Manager: False\n",
      "72\n"
     ]
    }
   ],
   "source": [
    "#inheriting from above Employee class\n",
    "class Developer(Employee):\n",
    "    raise_amt = 1.10 # we can specify own variable with out effecting parent class\n",
    "    #now adding own init method for additional attributes\n",
    "    def __init__(self, first, last, pay, programming_lang):\n",
    "        super().__init__(first, last, pay)\n",
    "        self.programming_lang = programming_lang\n",
    "        \n",
    "class Manager(Employee):\n",
    "    def __init__(self, first, last, pay, employees=None):\n",
    "        super().__init__(first, last, pay)\n",
    "        if employees is None:\n",
    "            self.employees = []\n",
    "        else:\n",
    "            self.employees = employees\n",
    "    def add_employees(self, emp):\n",
    "        if emp not in self.employees:\n",
    "            self.employees.append(emp)\n",
    "    def remove_employees(self, emp):\n",
    "        if emp in self.employees:\n",
    "            self.employees.remove(emp)\n",
    "    def print_emps(self):\n",
    "        for emp in self.employees:\n",
    "            print('-->',emp)\n",
    "\n",
    "dev_1 = Developer(\"DEv\",\"ed\",20000,\"C#\")\n",
    "manag_1 = Manager(\"Manager\",\"Raj\", 40000, ['DEV ED', \"DEv OPS\"])\n",
    "print(dev_1)\n",
    "print(manag_1.employees)\n",
    "print(manag_1)\n",
    "manag_1.add_employees(\"Hari om\")\n",
    "print(manag_1.employees)\n",
    "manag_1.remove_employees(\"DEV ED\")\n",
    "manag_1.print_emps()\n",
    "\n",
    "import datetime\n",
    "my_date = datetime.date(2016,7,11)\n",
    "print(Developer.is_workday(my_date))\n",
    "\n",
    "print(Developer.raise_amt)\n",
    "print(Employee.raise_amt)\n",
    "Developer.set_raise_amt(2)\n",
    "#here we can see setting raise_amt on Developer changed raise_amt of Developer only\n",
    "print(Employee.raise_amt)\n",
    "print(Developer.raise_amt)\n",
    "#now we will see what happens with manager as it don't have raise_amt attribute\n",
    "print(Manager.raise_amt)\n",
    "Manager.set_raise_amt(3)\n",
    "print(\"Manager\", Manager.raise_amt)\n",
    "print(\"Employee\", Employee.raise_amt)\n",
    "'''\n",
    "we see although we dont have attribute raise_amt on Manager object, \n",
    "it inherited the attribute from Employee Object and kept its own different value\n",
    "without effecting employee object's raise_amt\n",
    "THis is the main advantage of using class\n",
    "'''\n",
    "print(\"DEVELOPER\", Developer.raise_amt)\n",
    "\n",
    "\n",
    "#Lets check isinstance FUnction\n",
    "print(isinstance(manag_1, Manager))\n",
    "print(isinstance(manag_1, Employee))\n",
    "print(isinstance(manag_1, Developer))\n",
    "'''\n",
    "We see here that manag_1 is instancce of Manager and As Manager is inherited from Employee\n",
    "We see it is instance of Employee too but not of Developer as Manager didnt inherited from \n",
    "Developer\n",
    "'''\n",
    "'''\n",
    "But issubclass is different\n",
    "'''\n",
    "print(\"Manager is sub of Employee:\",issubclass(Manager, Employee))\n",
    "print(\"Employee is sub of Manager:\",issubclass(Employee, Manager))\n",
    "# print(issubclass(manag_1, Developer))\n",
    "\n",
    "#as we created employee from both manager and deveoper and employe object no_of _emp also increases\n",
    "print(Employee.no_of_emp)"
   ]
  },
  {
   "cell_type": "markdown",
   "metadata": {},
   "source": [
    "### Magic or Dunder Methods"
   ]
  },
  {
   "cell_type": "markdown",
   "metadata": {},
   "source": [
    "### Property Decorator"
   ]
  },
  {
   "cell_type": "code",
   "execution_count": 58,
   "metadata": {},
   "outputs": [
    {
     "name": "stdout",
     "output_type": "stream",
     "text": [
      "John Doe\n"
     ]
    }
   ],
   "source": [
    "class Employee():\n",
    "    \n",
    "    def __init__(self,fname,lname,pay):\n",
    "        self.fname= fname\n",
    "        self.lname= lname\n",
    "        self.pay= pay\n",
    "        self.email= f\"{fname}.{lname}@company.com\"\n",
    "    \n",
    "    @property\n",
    "    def full_name(self):\n",
    "        return f\"{self.fname} {self.lname}\"\n",
    "    \n",
    "emp_1 = Employee(\"John\",\"Doe\",20000)\n",
    "print(emp_1.full_name)#we didnt called full_name() because we used @property decorator which returned str from function instead of object on memory lcoation\n"
   ]
  },
  {
   "cell_type": "markdown",
   "metadata": {},
   "source": [
    "Now we Will use Setters, Getters and Deleters"
   ]
  },
  {
   "cell_type": "code",
   "execution_count": 68,
   "metadata": {},
   "outputs": [
    {
     "name": "stdout",
     "output_type": "stream",
     "text": [
      "John Doe\n",
      "John Doe\n"
     ]
    }
   ],
   "source": [
    "class Employee():\n",
    "    \n",
    "    def __init__(self,fname,lname,pay):\n",
    "        self.fname= fname\n",
    "        self.lname= lname\n",
    "        self.pay= pay\n",
    "        self.email= f\"{fname}.{lname}@company.com\"\n",
    "    \n",
    "    @property\n",
    "    def full_name(self):\n",
    "        return f\"{self.fname} {self.lname}\"\n",
    "    \n",
    "    @full_name.setter\n",
    "    def full_name(self, name):\n",
    "        first, last = name.split(' ')\n",
    "        self.first = first\n",
    "        self.last = last\n",
    "    \n",
    "emp_1 = Employee(\"John\",\"Doe\",20000)\n",
    "print(emp_1.full_name)\n",
    "emp_1.full_name = \"john hero\"\n",
    "print(emp_1.full_name)\n"
   ]
  },
  {
   "cell_type": "markdown",
   "metadata": {},
   "source": []
  },
  {
   "cell_type": "code",
   "execution_count": null,
   "metadata": {},
   "outputs": [],
   "source": []
  },
  {
   "cell_type": "code",
   "execution_count": null,
   "metadata": {},
   "outputs": [],
   "source": []
  }
 ],
 "metadata": {
  "kernelspec": {
   "display_name": "Python 3",
   "language": "python",
   "name": "python3"
  },
  "language_info": {
   "codemirror_mode": {
    "name": "ipython",
    "version": 3
   },
   "file_extension": ".py",
   "mimetype": "text/x-python",
   "name": "python",
   "nbconvert_exporter": "python",
   "pygments_lexer": "ipython3",
   "version": "3.8.2"
  }
 },
 "nbformat": 4,
 "nbformat_minor": 4
}
