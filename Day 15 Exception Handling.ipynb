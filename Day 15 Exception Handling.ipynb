{
 "cells": [
  {
   "cell_type": "markdown",
   "metadata": {},
   "source": [
    "KEYWORDS FOR EXCEPTION HANDLING"
   ]
  },
  {
   "cell_type": "code",
   "execution_count": null,
   "metadata": {},
   "outputs": [],
   "source": [
    "1. try\n",
    "2. except\n",
    "3. else\n",
    "4. finally\n",
    "5. Exception\n",
    "6. raise\n"
   ]
  },
  {
   "cell_type": "code",
   "execution_count": 4,
   "metadata": {},
   "outputs": [
    {
     "name": "stdout",
     "output_type": "stream",
     "text": [
      "enter any number:2\n"
     ]
    },
    {
     "ename": "ZeroDivisionError",
     "evalue": "division by zero",
     "output_type": "error",
     "traceback": [
      "\u001b[1;31m---------------------------------------------------------------------------\u001b[0m",
      "\u001b[1;31mZeroDivisionError\u001b[0m                         Traceback (most recent call last)",
      "\u001b[1;32m<ipython-input-4-0a362075da85>\u001b[0m in \u001b[0;36m<module>\u001b[1;34m\u001b[0m\n\u001b[0;32m      1\u001b[0m \u001b[0ma\u001b[0m\u001b[1;33m=\u001b[0m\u001b[0mint\u001b[0m\u001b[1;33m(\u001b[0m\u001b[0minput\u001b[0m\u001b[1;33m(\u001b[0m\u001b[1;34m\"enter any number:\"\u001b[0m\u001b[1;33m)\u001b[0m\u001b[1;33m)\u001b[0m \u001b[1;31m#string typecasted to integer\u001b[0m\u001b[1;33m\u001b[0m\u001b[1;33m\u001b[0m\u001b[0m\n\u001b[1;32m----> 2\u001b[1;33m \u001b[0ma\u001b[0m\u001b[1;33m/\u001b[0m\u001b[1;36m0\u001b[0m\u001b[1;33m\u001b[0m\u001b[1;33m\u001b[0m\u001b[0m\n\u001b[0m",
      "\u001b[1;31mZeroDivisionError\u001b[0m: division by zero"
     ]
    }
   ],
   "source": [
    "a=int(input(\"enter any number:\")) #string typecasted to integer\n",
    "a/0"
   ]
  },
  {
   "cell_type": "code",
   "execution_count": 16,
   "metadata": {},
   "outputs": [
    {
     "name": "stdout",
     "output_type": "stream",
     "text": [
      "enter any number:5\n",
      "enter divisor:0\n",
      "unable to divide\n",
      "division by zero\n",
      "execution complete\n"
     ]
    }
   ],
   "source": [
    "a=int(input(\"enter any number:\")) #string typecasted to integer\n",
    "b=int(input(\"enter divisor:\"))\n",
    "try:\n",
    "    result=a/b\n",
    "except Exception as e:\n",
    "    print(\"unable to divide\")\n",
    "    print(e)                   #used to print what error was rised\n",
    "else:\n",
    "    print(result)\n",
    "finally:\n",
    "    print(\"execution complete\")"
   ]
  },
  {
   "cell_type": "code",
   "execution_count": 17,
   "metadata": {},
   "outputs": [
    {
     "name": "stdout",
     "output_type": "stream",
     "text": [
      "enter any number:5\n",
      "enter divisor:7\n"
     ]
    },
    {
     "ename": "Exception",
     "evalue": "b cant be greater than a",
     "output_type": "error",
     "traceback": [
      "\u001b[1;31m---------------------------------------------------------------------------\u001b[0m",
      "\u001b[1;31mException\u001b[0m                                 Traceback (most recent call last)",
      "\u001b[1;32m<ipython-input-17-d77fabd6ceef>\u001b[0m in \u001b[0;36m<module>\u001b[1;34m\u001b[0m\n\u001b[0;32m      2\u001b[0m \u001b[0mb\u001b[0m\u001b[1;33m=\u001b[0m\u001b[0mint\u001b[0m\u001b[1;33m(\u001b[0m\u001b[0minput\u001b[0m\u001b[1;33m(\u001b[0m\u001b[1;34m\"enter divisor:\"\u001b[0m\u001b[1;33m)\u001b[0m\u001b[1;33m)\u001b[0m\u001b[1;33m\u001b[0m\u001b[1;33m\u001b[0m\u001b[0m\n\u001b[0;32m      3\u001b[0m \u001b[1;32mif\u001b[0m \u001b[0ma\u001b[0m\u001b[1;33m<\u001b[0m\u001b[0mb\u001b[0m\u001b[1;33m:\u001b[0m\u001b[1;33m\u001b[0m\u001b[1;33m\u001b[0m\u001b[0m\n\u001b[1;32m----> 4\u001b[1;33m     \u001b[1;32mraise\u001b[0m \u001b[0mException\u001b[0m\u001b[1;33m(\u001b[0m\u001b[1;34m\"b cant be greater than a\"\u001b[0m\u001b[1;33m)\u001b[0m\u001b[1;33m\u001b[0m\u001b[1;33m\u001b[0m\u001b[0m\n\u001b[0m\u001b[0;32m      5\u001b[0m \u001b[1;32mtry\u001b[0m\u001b[1;33m:\u001b[0m\u001b[1;33m\u001b[0m\u001b[1;33m\u001b[0m\u001b[0m\n\u001b[0;32m      6\u001b[0m     \u001b[0mresult\u001b[0m\u001b[1;33m=\u001b[0m\u001b[0ma\u001b[0m\u001b[1;33m/\u001b[0m\u001b[0mb\u001b[0m\u001b[1;33m\u001b[0m\u001b[1;33m\u001b[0m\u001b[0m\n",
      "\u001b[1;31mException\u001b[0m: b cant be greater than a"
     ]
    }
   ],
   "source": [
    "a=int(input(\"enter any number:\")) #string typecasted to integer\n",
    "b=int(input(\"enter divisor:\"))\n",
    "if a<b:\n",
    "    raise Exception(\"b cant be greater than a\")\n",
    "try:\n",
    "    result=a/b\n",
    "except Exception as e:\n",
    "    print(\"unable to divide\")\n",
    "    print(e)                   #used to print what error was rised\n",
    "else:\n",
    "    print(result)\n",
    "finally:\n",
    "    print(\"execution complete\")"
   ]
  },
  {
   "cell_type": "code",
   "execution_count": 18,
   "metadata": {},
   "outputs": [
    {
     "name": "stdout",
     "output_type": "stream",
     "text": [
      "enter any number:5\n",
      "enter divisor:0\n"
     ]
    },
    {
     "ename": "ZeroDivisionError",
     "evalue": "num cant be divided by 0",
     "output_type": "error",
     "traceback": [
      "\u001b[1;31m---------------------------------------------------------------------------\u001b[0m",
      "\u001b[1;31mZeroDivisionError\u001b[0m                         Traceback (most recent call last)",
      "\u001b[1;32m<ipython-input-18-11e66ef5b61d>\u001b[0m in \u001b[0;36m<module>\u001b[1;34m\u001b[0m\n\u001b[0;32m      2\u001b[0m \u001b[0mb\u001b[0m\u001b[1;33m=\u001b[0m\u001b[0mint\u001b[0m\u001b[1;33m(\u001b[0m\u001b[0minput\u001b[0m\u001b[1;33m(\u001b[0m\u001b[1;34m\"enter divisor:\"\u001b[0m\u001b[1;33m)\u001b[0m\u001b[1;33m)\u001b[0m\u001b[1;33m\u001b[0m\u001b[1;33m\u001b[0m\u001b[0m\n\u001b[0;32m      3\u001b[0m \u001b[1;32mif\u001b[0m \u001b[0mb\u001b[0m\u001b[1;33m==\u001b[0m\u001b[1;36m0\u001b[0m\u001b[1;33m:\u001b[0m\u001b[1;33m\u001b[0m\u001b[1;33m\u001b[0m\u001b[0m\n\u001b[1;32m----> 4\u001b[1;33m     \u001b[1;32mraise\u001b[0m \u001b[0mZeroDivisionError\u001b[0m\u001b[1;33m(\u001b[0m\u001b[1;34m\"num cant be divided by 0\"\u001b[0m\u001b[1;33m)\u001b[0m\u001b[1;33m\u001b[0m\u001b[1;33m\u001b[0m\u001b[0m\n\u001b[0m\u001b[0;32m      5\u001b[0m \u001b[1;32mtry\u001b[0m\u001b[1;33m:\u001b[0m\u001b[1;33m\u001b[0m\u001b[1;33m\u001b[0m\u001b[0m\n\u001b[0;32m      6\u001b[0m     \u001b[0mresult\u001b[0m\u001b[1;33m=\u001b[0m\u001b[0ma\u001b[0m\u001b[1;33m/\u001b[0m\u001b[0mb\u001b[0m\u001b[1;33m\u001b[0m\u001b[1;33m\u001b[0m\u001b[0m\n",
      "\u001b[1;31mZeroDivisionError\u001b[0m: num cant be divided by 0"
     ]
    }
   ],
   "source": [
    "a=int(input(\"enter any number:\")) #string typecasted to integer\n",
    "b=int(input(\"enter divisor:\"))\n",
    "if b==0:\n",
    "    raise ZeroDivisionError(\"num cant be divided by 0\")\n",
    "try:\n",
    "    result=a/b\n",
    "except Exception as e:\n",
    "    print(\"unable to divide\")\n",
    "    print(e)                   #used to print what error was rised\n",
    "else:\n",
    "    print(result)\n",
    "finally:\n",
    "    print(\"execution complete\")"
   ]
  },
  {
   "cell_type": "markdown",
   "metadata": {},
   "source": [
    "FILE HANDLING\n"
   ]
  },
  {
   "cell_type": "markdown",
   "metadata": {},
   "source": [
    "BASIC OPERATIONS\n",
    "1. open\n",
    "2. close\n",
    "3. read\n",
    "4. write\n",
    "5. append\n",
    "6. seek\n",
    "7. tell"
   ]
  },
  {
   "cell_type": "code",
   "execution_count": 50,
   "metadata": {},
   "outputs": [
    {
     "ename": "SyntaxError",
     "evalue": "invalid syntax (<ipython-input-50-7874dd22a5fd>, line 3)",
     "output_type": "error",
     "traceback": [
      "\u001b[1;36m  File \u001b[1;32m\"<ipython-input-50-7874dd22a5fd>\"\u001b[1;36m, line \u001b[1;32m3\u001b[0m\n\u001b[1;33m    else FileNotFoundError as e\u001b[0m\n\u001b[1;37m       ^\u001b[0m\n\u001b[1;31mSyntaxError\u001b[0m\u001b[1;31m:\u001b[0m invalid syntax\n"
     ]
    }
   ],
   "source": [
    "try:\n",
    "    rf=open(\"abc.txt\")\n",
    "else FileNotFoundError as e\n",
    "    print(e)\n",
    "    "
   ]
  },
  {
   "cell_type": "code",
   "execution_count": 48,
   "metadata": {},
   "outputs": [],
   "source": [
    "try:\n",
    "    rf=open(\"abc.txt\",\"w\")\n",
    "except FileNotFoundError as e:\n",
    "    print(e)"
   ]
  },
  {
   "cell_type": "code",
   "execution_count": 49,
   "metadata": {},
   "outputs": [
    {
     "name": "stdout",
     "output_type": "stream",
     "text": [
      " Volume in drive D is DATA\n",
      " Volume Serial Number is B8DA-03BD\n",
      "\n",
      " Directory of D:\\1. Python Class\\Fundamentals\n",
      "\n",
      "03/10/2019  08:43 AM Nischal    <DIR>          .\n",
      "03/10/2019  08:43 AM Nischal    <DIR>          ..\n",
      "03/10/2019  08:05 AM Nischal    <DIR>          .ipynb_checkpoints\n",
      "03/10/2019  08:43 AM Nischal                 0 abc.txt\n",
      "02/10/2019  05:54 PM Nischal             3,136 Day 1 Test.ipynb\n",
      "02/26/2019  08:11 AM Nischal            14,102 day 10 practice home.ipynb\n",
      "02/25/2019  07:51 AM Nischal            31,375 Day 10. Dictionary.ipynb\n",
      "02/25/2019  01:15 PM Nischal            80,230 Day 11. import OS module.ipynb\n",
      "02/26/2019  09:00 AM Nischal            14,162 day 12 DICTIONARY FINAL.ipynb\n",
      "03/01/2019  07:59 AM Nischal             4,180 Day 12 MAP FILTER AND REDUCE WITH LAMBDA.ipynb\n",
      "03/03/2019  08:57 AM Nischal            21,643 Day 13 List Comprehension.ipynb\n",
      "03/10/2019  08:05 AM Nischal             9,605 Day 14 Functions(Assignments).ipynb\n",
      "03/10/2019  08:04 AM Nischal            15,457 Day 14 Functions.ipynb\n",
      "03/10/2019  08:43 AM Nischal             9,848 Day 15 Exception Handling.ipynb\n",
      "02/12/2019  08:09 AM Nischal            22,947 Day 2 Elements of lists.ipynb\n",
      "02/12/2019  08:46 AM Nischal            14,922 Day 3.ipynb\n",
      "02/14/2019  08:49 AM Nischal            11,701 day 4 indexing, membership and slicing in list..ipynb\n",
      "02/19/2019  08:18 AM Nischal            10,833 Day 5 Range and LOOPS-For.ipynb\n",
      "02/17/2019  04:05 PM Nischal            16,653 Day 6.ipynb\n",
      "02/19/2019  07:56 AM Nischal               555 Day 7 For loop in depth.ipynb\n",
      "02/20/2019  06:07 PM Nischal             2,568 Day 8 part 1 .ipynb\n",
      "02/20/2019  07:26 PM Nischal            85,760 Day 8 part 2Feb11 Fundamentals of Python.ipynb\n",
      "02/24/2019  07:46 AM Nischal            18,815 Day 9 Set.ipynb\n",
      "02/27/2019  07:50 AM Nischal             1,988 How To rename all files in folder sequentially..ipynb\n",
      "02/27/2019  07:49 AM Nischal    <DIR>          Rename\n",
      "02/27/2019  07:49 AM Nischal            70,769 try for renames.ipynb\n",
      "02/19/2019  03:34 PM Nischal             6,777 TRY MULTIPLY AND STARS.ipynb\n",
      "              23 File(s)        468,026 bytes\n",
      "               4 Dir(s)  163,356,356,608 bytes free\n"
     ]
    }
   ],
   "source": [
    "ls"
   ]
  },
  {
   "cell_type": "code",
   "execution_count": 52,
   "metadata": {},
   "outputs": [
    {
     "data": {
      "text/plain": [
       "11"
      ]
     },
     "execution_count": 52,
     "metadata": {},
     "output_type": "execute_result"
    }
   ],
   "source": [
    "rf=open(\"abc.txt\",\"w\")\n",
    "rf.write(\"I am python\")"
   ]
  },
  {
   "cell_type": "code",
   "execution_count": 58,
   "metadata": {},
   "outputs": [],
   "source": [
    "rf=open(\"abc.txt\",\"w\")\n",
    "rf.write(\"I am python. \\nI am Java.\\nI am C#.\")\n",
    "rf.close()"
   ]
  },
  {
   "cell_type": "code",
   "execution_count": 63,
   "metadata": {},
   "outputs": [],
   "source": [
    "rf=open(\"abc.txt\",\"w\")\n",
    "rf.write(\"I am python. \\nI am Java.\\nI am C#.\")\n",
    "rf.close()\n",
    "rf=open(\"abc.txt\")"
   ]
  },
  {
   "cell_type": "code",
   "execution_count": 65,
   "metadata": {},
   "outputs": [
    {
     "data": {
      "text/plain": [
       "'I am python. \\nI am Java.\\nI am C#.'"
      ]
     },
     "execution_count": 65,
     "metadata": {},
     "output_type": "execute_result"
    }
   ],
   "source": [
    "rf.read()"
   ]
  },
  {
   "cell_type": "code",
   "execution_count": 66,
   "metadata": {},
   "outputs": [
    {
     "data": {
      "text/plain": [
       "''"
      ]
     },
     "execution_count": 66,
     "metadata": {},
     "output_type": "execute_result"
    }
   ],
   "source": [
    "rf.read()"
   ]
  },
  {
   "cell_type": "code",
   "execution_count": 69,
   "metadata": {},
   "outputs": [
    {
     "data": {
      "text/plain": [
       "35"
      ]
     },
     "execution_count": 69,
     "metadata": {},
     "output_type": "execute_result"
    }
   ],
   "source": [
    "rf.tell()"
   ]
  },
  {
   "cell_type": "code",
   "execution_count": 70,
   "metadata": {},
   "outputs": [
    {
     "data": {
      "text/plain": [
       "3"
      ]
     },
     "execution_count": 70,
     "metadata": {},
     "output_type": "execute_result"
    }
   ],
   "source": [
    "rf.seek(3)"
   ]
  },
  {
   "cell_type": "code",
   "execution_count": 71,
   "metadata": {},
   "outputs": [
    {
     "data": {
      "text/plain": [
       "3"
      ]
     },
     "execution_count": 71,
     "metadata": {},
     "output_type": "execute_result"
    }
   ],
   "source": [
    "rf.tell()"
   ]
  },
  {
   "cell_type": "code",
   "execution_count": 73,
   "metadata": {},
   "outputs": [
    {
     "data": {
      "text/plain": [
       "'m python. \\nI am Java.\\nI am C#.'"
      ]
     },
     "execution_count": 73,
     "metadata": {},
     "output_type": "execute_result"
    }
   ],
   "source": [
    "rf.read()"
   ]
  },
  {
   "cell_type": "code",
   "execution_count": 75,
   "metadata": {},
   "outputs": [],
   "source": [
    "rf.close()"
   ]
  },
  {
   "cell_type": "code",
   "execution_count": 78,
   "metadata": {},
   "outputs": [],
   "source": [
    "rf=open(\"abc.txt\",\"a\")\n",
    "rf.write(\"abadkjb\")\n",
    "rf.close()"
   ]
  },
  {
   "cell_type": "code",
   "execution_count": 91,
   "metadata": {},
   "outputs": [
    {
     "data": {
      "text/plain": [
       "['is is abc\\n', 'THIS IS APPEL']"
      ]
     },
     "execution_count": 91,
     "metadata": {},
     "output_type": "execute_result"
    }
   ],
   "source": [
    "rf=open(\"abc.txt\",\"r\")\n",
    "rf.seek(2)\n",
    "rf.readlines()"
   ]
  },
  {
   "cell_type": "code",
   "execution_count": 92,
   "metadata": {},
   "outputs": [
    {
     "data": {
      "text/plain": [
       "0"
      ]
     },
     "execution_count": 92,
     "metadata": {},
     "output_type": "execute_result"
    }
   ],
   "source": [
    "rf.seek(0)\n"
   ]
  },
  {
   "cell_type": "code",
   "execution_count": 95,
   "metadata": {},
   "outputs": [
    {
     "data": {
      "text/plain": [
       "'THIS IS APPEL'"
      ]
     },
     "execution_count": 95,
     "metadata": {},
     "output_type": "execute_result"
    }
   ],
   "source": [
    "rf.readline()"
   ]
  },
  {
   "cell_type": "code",
   "execution_count": null,
   "metadata": {},
   "outputs": [],
   "source": []
  },
  {
   "cell_type": "code",
   "execution_count": 20,
   "metadata": {},
   "outputs": [],
   "source": [
    "with open('abc.txt','w') as wf:\n",
    "    wf.write(\"This is Python Progeamming :)\")"
   ]
  },
  {
   "cell_type": "code",
   "execution_count": 23,
   "metadata": {},
   "outputs": [
    {
     "name": "stdout",
     "output_type": "stream",
     "text": [
      "4\n",
      "50\n"
     ]
    }
   ],
   "source": [
    "wf=open(\"abc.txt\",\"a\")\n",
    "wf.seek(4)\n",
    "print(wf.tell())\n",
    "wf.write(\"hello!!\")###PROBLEM WITH NOSEEKING\n",
    "print(wf.tell())\n",
    "wf.close()"
   ]
  },
  {
   "cell_type": "code",
   "execution_count": null,
   "metadata": {},
   "outputs": [],
   "source": []
  }
 ],
 "metadata": {
  "kernelspec": {
   "display_name": "Python 3",
   "language": "python",
   "name": "python3"
  },
  "language_info": {
   "codemirror_mode": {
    "name": "ipython",
    "version": 3
   },
   "file_extension": ".py",
   "mimetype": "text/x-python",
   "name": "python",
   "nbconvert_exporter": "python",
   "pygments_lexer": "ipython3",
   "version": "3.7.1"
  }
 },
 "nbformat": 4,
 "nbformat_minor": 2
}
