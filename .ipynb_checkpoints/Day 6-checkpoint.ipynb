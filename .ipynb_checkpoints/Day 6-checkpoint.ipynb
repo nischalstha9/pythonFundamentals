{
 "cells": [
  {
   "cell_type": "markdown",
   "metadata": {},
   "source": [
    "1. loops statement (for loop)\n",
    "2. control satement (if statement)\n",
    "3. enu merate and zip (built-in function) "
   ]
  },
  {
   "cell_type": "markdown",
   "metadata": {},
   "source": [
    "Control statement"
   ]
  },
  {
   "cell_type": "code",
   "execution_count": 1,
   "metadata": {},
   "outputs": [
    {
     "name": "stdout",
     "output_type": "stream",
     "text": [
      "Both are equal\n"
     ]
    }
   ],
   "source": [
    "a=2000\n",
    "b=2000\n",
    "if a==b:\n",
    "    print(\"Both are equal\")"
   ]
  },
  {
   "cell_type": "code",
   "execution_count": 3,
   "metadata": {},
   "outputs": [
    {
     "name": "stdout",
     "output_type": "stream",
     "text": [
      "They are not equal\n"
     ]
    }
   ],
   "source": [
    "a=2000\n",
    "b=200\n",
    "if a==b:\n",
    "    print(\"Both are equal\")\n",
    "else:\n",
    "    print(\"They are not equal\")\n",
    "    "
   ]
  },
  {
   "cell_type": "markdown",
   "metadata": {},
   "source": [
    "Three imp keywords :\n",
    "1. break\n",
    "2. continue\n",
    "3. return\n",
    "4. range"
   ]
  },
  {
   "cell_type": "code",
   "execution_count": 7,
   "metadata": {},
   "outputs": [
    {
     "name": "stdout",
     "output_type": "stream",
     "text": [
      "a and b are neither same object nor have same value\n"
     ]
    }
   ],
   "source": [
    "a=2000\n",
    "b=20\n",
    "c=a\n",
    "if a is b:\n",
    "    print(\"Both a and b is same object\")\n",
    "elif a==b:\n",
    "    print(\"a and b are equal\")\n",
    "else:\n",
    "    print(\"a and b are neither same object nor have same value\")"
   ]
  },
  {
   "cell_type": "code",
   "execution_count": 8,
   "metadata": {},
   "outputs": [
    {
     "name": "stdout",
     "output_type": "stream",
     "text": [
      "Both a and b is same object\n"
     ]
    }
   ],
   "source": [
    "a=2000\n",
    "b=a\n",
    "c=a\n",
    "if a is b:\n",
    "    print(\"Both a and b is same object\")\n",
    "elif a==b:\n",
    "    print(\"a and b are equal\")\n",
    "else:\n",
    "    print(\"a and b are neither same object nor have same value\")"
   ]
  },
  {
   "cell_type": "code",
   "execution_count": 9,
   "metadata": {},
   "outputs": [
    {
     "name": "stdout",
     "output_type": "stream",
     "text": [
      "a and b are equal\n"
     ]
    }
   ],
   "source": [
    "a=2000\n",
    "b=2000\n",
    "c=a\n",
    "if a is b:\n",
    "    print(\"Both a and b is same object\")\n",
    "elif a==b:\n",
    "    print(\"a and b are equal\")\n",
    "else:\n",
    "    print(\"a and b are neither same object nor have same value\")"
   ]
  },
  {
   "cell_type": "code",
   "execution_count": 10,
   "metadata": {},
   "outputs": [
    {
     "name": "stdout",
     "output_type": "stream",
     "text": [
      "Both are equal\n"
     ]
    }
   ],
   "source": [
    "a=3000\n",
    "b=a\n",
    "if a==b:\n",
    "    if a is b:\n",
    "        print(\"Both are equal\")"
   ]
  },
  {
   "cell_type": "code",
   "execution_count": 12,
   "metadata": {},
   "outputs": [
    {
     "name": "stdout",
     "output_type": "stream",
     "text": [
      "Both are equal something\n"
     ]
    }
   ],
   "source": [
    "a=3000\n",
    "b=a\n",
    "if a==b:\n",
    "    if a is b:\n",
    "        print(\"Both are equal\",\"something\")"
   ]
  },
  {
   "cell_type": "code",
   "execution_count": 14,
   "metadata": {},
   "outputs": [
    {
     "name": "stdout",
     "output_type": "stream",
     "text": [
      "Both are equal something\n"
     ]
    }
   ],
   "source": [
    "a=3000\n",
    "b=a\n",
    "if a==b:\n",
    "    if a is b:\n",
    "        print(\"Both are equal\",end=\"\")\n",
    "        print(\" something\")"
   ]
  },
  {
   "cell_type": "code",
   "execution_count": 15,
   "metadata": {},
   "outputs": [
    {
     "name": "stdout",
     "output_type": "stream",
     "text": [
      "Both are equal\n",
      " something\n"
     ]
    }
   ],
   "source": [
    "a=3000\n",
    "b=a\n",
    "if a==b:\n",
    "    if a is b:\n",
    "        print(\"Both are equal\")\n",
    "        print(\" something\")"
   ]
  },
  {
   "cell_type": "markdown",
   "metadata": {},
   "source": [
    "simle string example"
   ]
  },
  {
   "cell_type": "code",
   "execution_count": 29,
   "metadata": {},
   "outputs": [
    {
     "data": {
      "text/plain": [
       "'The sum of 20 and 40 is 60'"
      ]
     },
     "execution_count": 29,
     "metadata": {},
     "output_type": "execute_result"
    }
   ],
   "source": [
    "a=20\n",
    "b=40\n",
    "'The sum of '+str(a)+' and '+str(b)+' is ' +str(a+b)"
   ]
  },
  {
   "cell_type": "code",
   "execution_count": 36,
   "metadata": {},
   "outputs": [
    {
     "data": {
      "text/plain": [
       "'The sum of 20 and 40 is 60'"
      ]
     },
     "execution_count": 36,
     "metadata": {},
     "output_type": "execute_result"
    }
   ],
   "source": [
    "s=\"result:\"\n",
    "a=20\n",
    "b=40\n",
    "'The sum of '+str(a)+' and '+str(b)+' is ' +str(a+b)"
   ]
  },
  {
   "cell_type": "code",
   "execution_count": 24,
   "metadata": {},
   "outputs": [
    {
     "data": {
      "text/plain": [
       "'Result: The sum of 20 and 40 is 60.'"
      ]
     },
     "execution_count": 24,
     "metadata": {},
     "output_type": "execute_result"
    }
   ],
   "source": [
    "s=\"Result:\"\n",
    "a=20\n",
    "b=40\n",
    "'{} The sum of {} and {} is {}.'. format(s,a,b,a+b)"
   ]
  },
  {
   "cell_type": "markdown",
   "metadata": {},
   "source": [
    "Indexing in String"
   ]
  },
  {
   "cell_type": "code",
   "execution_count": 37,
   "metadata": {},
   "outputs": [
    {
     "data": {
      "text/plain": [
       "'Result: The sum of 20 and 40 is 60.'"
      ]
     },
     "execution_count": 37,
     "metadata": {},
     "output_type": "execute_result"
    }
   ],
   "source": [
    "s=\"Result:\"\n",
    "a=20\n",
    "b=40\n",
    "'{0} The sum of {3} and {1} is {2}.'. format(s,b,a+b,a)"
   ]
  },
  {
   "cell_type": "markdown",
   "metadata": {},
   "source": [
    "TO print numbers divisible by 5\n"
   ]
  },
  {
   "cell_type": "code",
   "execution_count": 40,
   "metadata": {},
   "outputs": [
    {
     "name": "stdout",
     "output_type": "stream",
     "text": [
      "0   5   10   15   20   25   30   35   40   45   50   "
     ]
    }
   ],
   "source": [
    "for i in range (55):\n",
    "    if i%5==0:\n",
    "        print(i, end=\"   \")"
   ]
  },
  {
   "cell_type": "markdown",
   "metadata": {},
   "source": [
    "to print even numbers"
   ]
  },
  {
   "cell_type": "code",
   "execution_count": 41,
   "metadata": {},
   "outputs": [
    {
     "name": "stdout",
     "output_type": "stream",
     "text": [
      "0   2   4   6   8   10   12   14   16   18   20   22   24   26   28   30   32   34   36   38   40   42   44   46   48   50   52   54   "
     ]
    }
   ],
   "source": [
    "for i in range (55):\n",
    "    if i%2==0:\n",
    "        print(i, end=\"   \")"
   ]
  },
  {
   "cell_type": "code",
   "execution_count": 42,
   "metadata": {},
   "outputs": [
    {
     "name": "stdout",
     "output_type": "stream",
     "text": [
      "2   4   6   8   10   12   14   16   18   20   22   24   26   28   30   32   34   36   38   40   42   44   46   48   50   52   54   "
     ]
    }
   ],
   "source": [
    "for i in range (1,55):\n",
    "    if i%2==0:\n",
    "        print(i, end=\"   \")"
   ]
  },
  {
   "cell_type": "code",
   "execution_count": 43,
   "metadata": {},
   "outputs": [
    {
     "name": "stdout",
     "output_type": "stream",
     "text": [
      "5   10   15   20   25   30   35   40   45   50   "
     ]
    }
   ],
   "source": [
    "for i in range (1,55):\n",
    "    if i%5==0:\n",
    "        print(i, end=\"   \")"
   ]
  },
  {
   "cell_type": "markdown",
   "metadata": {},
   "source": [
    "to exit from loop with \"break\":\n",
    "Ex of BREAK"
   ]
  },
  {
   "cell_type": "code",
   "execution_count": 53,
   "metadata": {},
   "outputs": [
    {
     "name": "stdout",
     "output_type": "stream",
     "text": [
      "1 is not divisible by 5\n",
      "2 is not divisible by 5\n",
      "3 is not divisible by 5\n",
      "4 is not divisible by 5\n",
      "5\n"
     ]
    }
   ],
   "source": [
    "for i in range (1,55):\n",
    "    if i%5==0:\n",
    "        print(i)\n",
    "        break\n",
    "    print(\"{} is not divisible by {}\".format(i,5))"
   ]
  },
  {
   "cell_type": "markdown",
   "metadata": {},
   "source": [
    "EXAMPLE FOR CONTINUE\n"
   ]
  },
  {
   "cell_type": "code",
   "execution_count": 62,
   "metadata": {},
   "outputs": [
    {
     "name": "stdout",
     "output_type": "stream",
     "text": [
      "1 is not divisible by 5\n",
      "2 is not divisible by 5\n",
      "3 is not divisible by 5\n",
      "4 is not divisible by 5\n",
      "5\n",
      "6 is not divisible by 5\n",
      "7 is not divisible by 5\n",
      "8 is not divisible by 5\n",
      "9 is not divisible by 5\n",
      "10\n",
      "11 is not divisible by 5\n",
      "12 is not divisible by 5\n",
      "13 is not divisible by 5\n",
      "14 is not divisible by 5\n",
      "15\n",
      "16 is not divisible by 5\n",
      "17 is not divisible by 5\n",
      "18 is not divisible by 5\n",
      "19 is not divisible by 5\n",
      "20\n",
      "21 is not divisible by 5\n",
      "22 is not divisible by 5\n",
      "23 is not divisible by 5\n",
      "24 is not divisible by 5\n",
      "25\n",
      "26 is not divisible by 5\n",
      "27 is not divisible by 5\n",
      "28 is not divisible by 5\n",
      "29 is not divisible by 5\n",
      "30\n",
      "31 is not divisible by 5\n",
      "32 is not divisible by 5\n",
      "33 is not divisible by 5\n",
      "34 is not divisible by 5\n",
      "35\n",
      "36 is not divisible by 5\n",
      "37 is not divisible by 5\n",
      "38 is not divisible by 5\n",
      "39 is not divisible by 5\n",
      "40\n",
      "41 is not divisible by 5\n",
      "42 is not divisible by 5\n",
      "43 is not divisible by 5\n",
      "44 is not divisible by 5\n",
      "45\n",
      "46 is not divisible by 5\n",
      "47 is not divisible by 5\n",
      "48 is not divisible by 5\n",
      "49 is not divisible by 5\n",
      "50\n",
      "51 is not divisible by 5\n",
      "52 is not divisible by 5\n",
      "53 is not divisible by 5\n",
      "54 is not divisible by 5\n"
     ]
    }
   ],
   "source": [
    "for i in range (1,55):\n",
    "    if i%5==0:\n",
    "        print(i)\n",
    "        continue\n",
    "    print(\"{} is not divisible by {}\".format(i,5))"
   ]
  },
  {
   "cell_type": "code",
   "execution_count": 64,
   "metadata": {},
   "outputs": [
    {
     "name": "stdout",
     "output_type": "stream",
     "text": [
      "1 is not divisible by 5\n",
      "2 is not divisible by 5\n",
      "3 is not divisible by 5\n",
      "4 is not divisible by 5\n",
      "5 is divisible by 5\n",
      "6 is not divisible by 5\n",
      "7 is not divisible by 5\n",
      "8 is not divisible by 5\n",
      "9 is not divisible by 5\n",
      "10 is divisible by 5\n",
      "11 is not divisible by 5\n",
      "12 is not divisible by 5\n",
      "13 is not divisible by 5\n",
      "14 is not divisible by 5\n",
      "15 is divisible by 5\n",
      "16 is not divisible by 5\n",
      "17 is not divisible by 5\n",
      "18 is not divisible by 5\n",
      "19 is not divisible by 5\n",
      "20 is divisible by 5\n",
      "21 is not divisible by 5\n",
      "22 is not divisible by 5\n",
      "23 is not divisible by 5\n",
      "24 is not divisible by 5\n",
      "25 is divisible by 5\n",
      "26 is not divisible by 5\n",
      "27 is not divisible by 5\n",
      "28 is not divisible by 5\n",
      "29 is not divisible by 5\n",
      "30 is divisible by 5\n",
      "31 is not divisible by 5\n",
      "32 is not divisible by 5\n",
      "33 is not divisible by 5\n",
      "34 is not divisible by 5\n",
      "35 is divisible by 5\n",
      "36 is not divisible by 5\n",
      "37 is not divisible by 5\n",
      "38 is not divisible by 5\n",
      "39 is not divisible by 5\n",
      "40 is divisible by 5\n",
      "41 is not divisible by 5\n",
      "42 is not divisible by 5\n",
      "43 is not divisible by 5\n",
      "44 is not divisible by 5\n",
      "45 is divisible by 5\n",
      "46 is not divisible by 5\n",
      "47 is not divisible by 5\n",
      "48 is not divisible by 5\n",
      "49 is not divisible by 5\n",
      "50 is divisible by 5\n"
     ]
    }
   ],
   "source": [
    "for i in range (1,51):\n",
    "    if i%5==0:\n",
    "        print(\"{} is divisible by 5\".format(i))\n",
    "        continue\n",
    "    print(\"{} is not divisible by {}\".format(i,5))"
   ]
  },
  {
   "cell_type": "code",
   "execution_count": null,
   "metadata": {},
   "outputs": [],
   "source": []
  }
 ],
 "metadata": {
  "kernelspec": {
   "display_name": "Python 3",
   "language": "python",
   "name": "python3"
  },
  "language_info": {
   "codemirror_mode": {
    "name": "ipython",
    "version": 3
   },
   "file_extension": ".py",
   "mimetype": "text/x-python",
   "name": "python",
   "nbconvert_exporter": "python",
   "pygments_lexer": "ipython3",
   "version": "3.7.1"
  }
 },
 "nbformat": 4,
 "nbformat_minor": 2
}
