{
 "cells": [
  {
   "cell_type": "markdown",
   "metadata": {},
   "source": [
    "# Regular Expression\n",
    "We are creating regex to extract certain numbers we want"
   ]
  },
  {
   "cell_type": "code",
   "execution_count": 5,
   "metadata": {},
   "outputs": [
    {
     "name": "stdout",
     "output_type": "stream",
     "text": [
      "['9', '7', '7', '9', '8', '4', '3', '4', '8', '1', '9', '0', '1']\n",
      "['977', '9843', '481', '901']\n"
     ]
    }
   ],
   "source": [
    "import re\n",
    "phn = \"+977-9843-481-901\"\n",
    "pattern = \"\\d\"\n",
    "grp_patern = \"\\d+\"\n",
    "newph = re.findall(grp_patern, phn)\n",
    "print (re.findall(pattern, phn))\n",
    "print (newph)\n"
   ]
  },
  {
   "cell_type": "code",
   "execution_count": 7,
   "metadata": {},
   "outputs": [
    {
     "name": "stdout",
     "output_type": "stream",
     "text": [
      "['9843', '481', '901', '977', '9810', '374', '388']\n"
     ]
    }
   ],
   "source": [
    "my_other_phn_no = \"Hey my NTC number is 9843-481-901 and Ncell is +977-9810-374-388\"\n",
    "pattern = \"\\d+\"\n",
    "print(re.findall(pattern, my_other_phn_no))"
   ]
  },
  {
   "cell_type": "markdown",
   "metadata": {},
   "source": [
    "Also here is another example"
   ]
  },
  {
   "cell_type": "code",
   "execution_count": 10,
   "metadata": {},
   "outputs": [],
   "source": [
    "meet_str = \"Hey call me at 8:30 on my cell +977-9810-374-388.\""
   ]
  },
  {
   "cell_type": "markdown",
   "metadata": {},
   "source": [
    "## Here now we have problem when we have two seperate numbers"
   ]
  },
  {
   "cell_type": "code",
   "execution_count": 11,
   "metadata": {},
   "outputs": [
    {
     "name": "stdout",
     "output_type": "stream",
     "text": [
      "['8', '3', '0', '9', '7', '7', '9', '8', '1', '0', '3', '7', '4', '3', '8', '8']\n"
     ]
    }
   ],
   "source": [
    "pattern = \"\\d\"\n",
    "print(re.findall(pattern, meet_str))"
   ]
  },
  {
   "cell_type": "markdown",
   "metadata": {},
   "source": [
    "Now we will create pattern to distinguish them"
   ]
  },
  {
   "cell_type": "code",
   "execution_count": 20,
   "metadata": {},
   "outputs": [
    {
     "name": "stdout",
     "output_type": "stream",
     "text": [
      "['+977-9810-374-388']\n"
     ]
    }
   ],
   "source": [
    "meet_str = \"Hey call me at 8:30 on my cell +977-9810-374-388 and here is same number again 977-9810-374-388.\"\n",
    "pattern = \"\\+\\d{3}-\\d{4}-\\d{3}-\\d{3}\"\n",
    "print(re.findall(pattern, meet_str))"
   ]
  },
  {
   "cell_type": "markdown",
   "metadata": {},
   "source": [
    "- `\\+` => escapes `+` and use in pattern\n",
    "- `\\d` => matches all the digits\n",
    "- `{1}` = `{n}` => for number with n digits\n",
    "- `-` => is there a dash\n",
    "\n",
    "- Also we can see we didnt get the number sequence which didnt started with `-` at last"
   ]
  },
  {
   "cell_type": "code",
   "execution_count": 28,
   "metadata": {},
   "outputs": [
    {
     "name": "stdout",
     "output_type": "stream",
     "text": [
      "['+977']\n",
      "['+977']\n"
     ]
    }
   ],
   "source": [
    "meet_str = \"Hey call me at 8:30 on my cell +977-9810-374-388 and here is same number again 977-9810-374-388.\"\n",
    "c_pattern = \"\\+\\d{3}\"\n",
    "print(re.findall(c_pattern, meet_str))\n",
    "#it can also be done as\n",
    "expressio = re.compile(c_pattern) # here we are making variable regex for ease of multiple use \n",
    "print(expressio.findall(meet_str))"
   ]
  },
  {
   "cell_type": "code",
   "execution_count": 35,
   "metadata": {},
   "outputs": [
    {
     "data": {
      "text/plain": [
       "['+977-9810-374-388', '977-9810-374-388', '+9779843481901']"
      ]
     },
     "execution_count": 35,
     "metadata": {},
     "output_type": "execute_result"
    }
   ],
   "source": [
    "c1 = \"\\+?\" #?after regex-character here makes + optional\n",
    "c2 = \"\\d{3}\"+\"-?\"\n",
    "c3 = \"\\d{4}\"+\"-?\"\n",
    "c4 = \"\\d{3}\"+\"-?\"\n",
    "c5 = \"\\d{3}\"\n",
    "meet_str = \"Hey call me at 8:30 on my cell +977-9810-374-388 and here is same number again 977-9810-374-388 also +9779843481901.\"\n",
    "pattern = f\"{c1}{c2}{c3}{c4}{c5}\"\n",
    "regex = re.compile(pattern)\n",
    "regex.findall(meet_str)"
   ]
  },
  {
   "cell_type": "markdown",
   "metadata": {},
   "source": [
    "Now we will try same thing with parenthesis too.."
   ]
  },
  {
   "cell_type": "code",
   "execution_count": 38,
   "metadata": {},
   "outputs": [
    {
     "data": {
      "text/plain": [
       "['+977-9810-374-388',\n",
       " '977-9810-374-388',\n",
       " '+9779843481901',\n",
       " '+977(9843)-481-901']"
      ]
     },
     "execution_count": 38,
     "metadata": {},
     "output_type": "execute_result"
    }
   ],
   "source": [
    "c1 = \"\\+?\" #?after regex-character here makes + optional\n",
    "c2 = \"\\d{3}\"+\"-?\"+\"\\(?\"\n",
    "c3 = \"\\d{4}\"+\"\\)?\"+\"-?\"\n",
    "c4 = \"\\d{3}\"+\"-?\"\n",
    "c5 = \"\\d{3}\"\n",
    "meet_str = \"Hey call me at 8:30 on my cell +977-9810-374-388 and here is same number again 977-9810-374-388 also +9779843481901 again +977(9843)-481-901.\"\n",
    "pattern = f\"{c1}{c2}{c3}{c4}{c5}\"\n",
    "regex = re.compile(pattern)\n",
    "regex.findall(meet_str)"
   ]
  },
  {
   "cell_type": "markdown",
   "metadata": {},
   "source": [
    "#### Here in regex `\\d` means `[0-9]` so we can also do it as:"
   ]
  },
  {
   "cell_type": "code",
   "execution_count": 40,
   "metadata": {},
   "outputs": [
    {
     "data": {
      "text/plain": [
       "['+977-9810-374-388',\n",
       " '977-9810-374-388',\n",
       " '+9779843481901',\n",
       " '+977(9843)-481-901']"
      ]
     },
     "execution_count": 40,
     "metadata": {},
     "output_type": "execute_result"
    }
   ],
   "source": [
    "c1 = \"\\+?\" #?after regex-character here makes + optional\n",
    "c2 = \"[0-9]{3}\"+\"-?\"+\"\\(?\"\n",
    "c3 = \"[0-9]{4}\"+\"\\)?\"+\"-?\"\n",
    "c4 = \"[0-9]{3}\"+\"-?\"\n",
    "c5 = \"[0-9]{3}\"\n",
    "meet_str = \"Hey call me at 8:30 on my cell +977-9810-374-388 and here is same number again 977-9810-374-388 also +9779843481901 again +977(9843)-481-901.\"\n",
    "pattern = f\"{c1}{c2}{c3}{c4}{c5}\"\n",
    "regex = re.compile(pattern)\n",
    "regex.findall(meet_str)"
   ]
  },
  {
   "cell_type": "markdown",
   "metadata": {},
   "source": [
    "#### lets say we only want odd number in c2:"
   ]
  },
  {
   "cell_type": "code",
   "execution_count": 45,
   "metadata": {},
   "outputs": [
    {
     "data": {
      "text/plain": [
       "['+977-9843-481-901']"
      ]
     },
     "execution_count": 45,
     "metadata": {},
     "output_type": "execute_result"
    }
   ],
   "source": [
    "c1 = \"\\+?\" #?after regex-character here makes + optional\n",
    "c2 = \"[13579]{3}\"+\"-?\"+\"\\(?\" # we replaced [0-9]  with [13579] which only gave odd numbers also we can do [24680] for evens\n",
    "c3 = \"[0-9]{4}\"+\"\\)?\"+\"-?\"\n",
    "c4 = \"[0-9]{3}\"+\"-?\"\n",
    "c5 = \"[0-9]{3}\"\n",
    "num = \"+977-9843-481-901 and +978-9843-481-901\"\n",
    "pattern = f\"{c1}{c2}{c3}{c4}{c5}\"\n",
    "regex = re.compile(pattern)\n",
    "regex.findall(num)"
   ]
  },
  {
   "cell_type": "markdown",
   "metadata": {},
   "source": [
    "#### Using OR Operator | in REGEX\n"
   ]
  },
  {
   "cell_type": "code",
   "execution_count": 48,
   "metadata": {},
   "outputs": [
    {
     "data": {
      "text/plain": [
       "['+977-9843-481-901']"
      ]
     },
     "execution_count": 48,
     "metadata": {},
     "output_type": "execute_result"
    }
   ],
   "source": [
    "c1 = \"\\+?\" #?after regex-character here makes + optional\n",
    "c2 = \"[13579]{3}\"+\"-?\"+\"\\(?\" # we replaced [0-9]  with [13579] which only gave odd numbers also we can do [24680] for evens\n",
    "c3 = \"(?:9843|9841|9810)\"+\"\\)?\"+\"-?\"# here we are using or operator for regex conditions\n",
    "c4 = \"[0-9]{3}\"+\"-?\"\n",
    "c5 = \"[0-9]{3}\"\n",
    "num = \"+977-9843-481-901 and +978-9843-481-901 again +977-9813-481-901\"\n",
    "pattern = f\"{c1}{c2}{c3}{c4}{c5}\"\n",
    "regex = re.compile(pattern)\n",
    "regex.findall(num)"
   ]
  },
  {
   "cell_type": "markdown",
   "metadata": {},
   "source": [
    "View At https://www.youtube.com/watch?v=TpOboJe6uIo&ab_channel=CodingEntrepreneurs 30:00"
   ]
  },
  {
   "cell_type": "code",
   "execution_count": null,
   "metadata": {},
   "outputs": [],
   "source": []
  }
 ],
 "metadata": {
  "kernelspec": {
   "display_name": "Python 3",
   "language": "python",
   "name": "python3"
  },
  "language_info": {
   "codemirror_mode": {
    "name": "ipython",
    "version": 3
   },
   "file_extension": ".py",
   "mimetype": "text/x-python",
   "name": "python",
   "nbconvert_exporter": "python",
   "pygments_lexer": "ipython3",
   "version": "3.8.2"
  }
 },
 "nbformat": 4,
 "nbformat_minor": 4
}
