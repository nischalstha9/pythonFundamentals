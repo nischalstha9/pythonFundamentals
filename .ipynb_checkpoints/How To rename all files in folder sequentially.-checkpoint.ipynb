{
 "cells": [
  {
   "cell_type": "code",
   "execution_count": 2,
   "metadata": {},
   "outputs": [
    {
     "name": "stdout",
     "output_type": "stream",
     "text": [
      "please insert the target location:D:\\\\1. Python Class\\Fundamentals\\Rename\n"
     ]
    }
   ],
   "source": [
    "#Just to rename\n",
    "import os #imports OS module\n",
    "os.chdir(\"D:\\\\1. Python Class\\Fundamentals\\Rename\")#changes the directory\n",
    "location= input(\"please insert the target location:\")#asks for location of folder with files of name to be changed\n",
    "files=os.listdir()#puts the file to be renamed on files variable\n",
    "for i, file in enumerate(os.listdir()):#loop to index files\n",
    "    ext=file.split(\".\")[-1]#extracts the last extension\n",
    "    os.rename(file, f\"SAM{i}.{ext}\")#renames the files"
   ]
  },
  {
   "cell_type": "code",
   "execution_count": null,
   "metadata": {},
   "outputs": [],
   "source": [
    "#To rename and Put in Extension Folder\n",
    "import os #imports OS module\n",
    "os.chdir(\"D:\\\\1. Python Class\\Fundamentals\\Rename\")#changes the directory\n",
    "location= input(\"please insert the target location:\")#asks for location of folder with files of name to be changed\n",
    "files=os.listdir()#puts the file to be renamed on files variable\n",
    "for i, file in enumerate(os.listdir()):#loop to index files\n",
    "    ext=file.split(\".\")[-1]#extracts the last extension\n",
    "    os.renames(file, f\"{ext}\\index{i}.{ext}\")#renames the files"
   ]
  }
 ],
 "metadata": {
  "kernelspec": {
   "display_name": "Python 3",
   "language": "python",
   "name": "python3"
  },
  "language_info": {
   "codemirror_mode": {
    "name": "ipython",
    "version": 3
   },
   "file_extension": ".py",
   "mimetype": "text/x-python",
   "name": "python",
   "nbconvert_exporter": "python",
   "pygments_lexer": "ipython3",
   "version": "3.7.1"
  }
 },
 "nbformat": 4,
 "nbformat_minor": 2
}
